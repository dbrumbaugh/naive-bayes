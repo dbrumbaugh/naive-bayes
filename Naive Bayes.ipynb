{
 "cells": [
  {
   "cell_type": "code",
   "execution_count": 48,
   "metadata": {},
   "outputs": [],
   "source": [
    "import numpy as np\n",
    "import itertools as it\n",
    "\n",
    "class NaiveBayes:\n",
    "    def __init__(self, data, classes=2):\n",
    "        self._class_cnt = classes\n",
    "        self._attr_cnt = len(data[0,:]) - 1\n",
    "        self._classes = list(range(self._class_cnt))\n",
    "        self._attrs = list(range(self._attr_cnt))\n",
    "        self._vars = np.zeros((classes, self._attr_cnt), dtype='float32')\n",
    "        self._avgs = np.zeros((classes, self._attr_cnt), dtype='float32')\n",
    "        self._prior = np.zeros((self._class_cnt), dtype='float32')\n",
    "        \n",
    "        self.train(data)\n",
    "        \n",
    "\n",
    "    def train(self, data):\n",
    "        for k in self._classes:\n",
    "            data_k = np.array([x for x in data if x[0] == k])\n",
    "            \n",
    "            for i in self._attrs:\n",
    "                self._vars[k, i] = np.var(data_k[:,i+1])\n",
    "                self._avgs[k, i] = np.mean(data_k[:,i+1])\n",
    "                    \n",
    "            self._prior[k] = len([x for x in data if x[0]==k]) / len(data)\n",
    "            \n",
    "            \n",
    "    def predict(self, x):\n",
    "        def prod(x, k):\n",
    "            acc = 1\n",
    "            for i in self._attrs:\n",
    "                acc *= self.posterior(list(x)[i], i, k)\n",
    "            return acc\n",
    "\n",
    "        return np.argmax([prod(x, k)*self._prior[k] for k in self._classes])\n",
    "    \n",
    "    \n",
    "    def posterior(self, a_i, i, k):\n",
    "        var = self._vars[k, i]\n",
    "        avg = self._avgs[k, i]\n",
    "        \n",
    "        return ((2*np.pi*var)**-0.5 * (np.exp((-(a_i - avg)**2) / (2*var))))\n"
   ]
  },
  {
   "cell_type": "code",
   "execution_count": 49,
   "metadata": {},
   "outputs": [],
   "source": []
  },
  {
   "cell_type": "code",
   "execution_count": 126,
   "metadata": {},
   "outputs": [],
   "source": [
    "from sklearn import datasets\n",
    "\n",
    "iris = datasets.load_iris()\n",
    "x = iris.data\n",
    "y = iris.target\n",
    "\n",
    "full_data = np.empty((150,5), dtype='float32')\n",
    "for i in range(150):\n",
    "    full_data[i,0] = y[i]\n",
    "    full_data[i,1] = x[i,0]\n",
    "    full_data[i,2] = x[i,1]\n",
    "    full_data[i,3] = x[i,2]\n",
    "    full_data[i,4] = x[i,3]\n",
    "    \n",
    "np.random.shuffle(full_data)\n",
    "\n",
    "training_data = full_data[:130,:]\n",
    "testing_data = full_data[130:,:]\n",
    "\n",
    "test = NaiveBayes(training_data, classes=3)\n",
    "predictions = [test.predict(x[1:5]) for x in testing_data]\n",
    "predictions2 = [test.predict(x[1:5]) for x in full_data]"
   ]
  },
  {
   "cell_type": "code",
   "execution_count": 129,
   "metadata": {},
   "outputs": [
    {
     "name": "stdout",
     "output_type": "stream",
     "text": [
      "144\n",
      "150\n",
      "0.96\n"
     ]
    }
   ],
   "source": [
    "correct = 0\n",
    "for i, _ in enumerate(predictions2):\n",
    "    correct += 1 if predictions2[i] == full_data[i,0] else 0\n",
    "    \n",
    "print(correct)\n",
    "print(len(full_data))\n",
    "\n",
    "print('{}'.format(correct / len(full_data)))"
   ]
  },
  {
   "cell_type": "code",
   "execution_count": null,
   "metadata": {},
   "outputs": [],
   "source": []
  },
  {
   "cell_type": "code",
   "execution_count": null,
   "metadata": {},
   "outputs": [],
   "source": []
  },
  {
   "cell_type": "code",
   "execution_count": null,
   "metadata": {},
   "outputs": [],
   "source": []
  }
 ],
 "metadata": {
  "kernelspec": {
   "display_name": "Python 3",
   "language": "python",
   "name": "python3"
  },
  "language_info": {
   "codemirror_mode": {
    "name": "ipython",
    "version": 3
   },
   "file_extension": ".py",
   "mimetype": "text/x-python",
   "name": "python",
   "nbconvert_exporter": "python",
   "pygments_lexer": "ipython3",
   "version": "3.8.6"
  }
 },
 "nbformat": 4,
 "nbformat_minor": 2
}
